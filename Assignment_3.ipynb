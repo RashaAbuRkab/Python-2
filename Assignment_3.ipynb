{
  "cells": [
    {
      "cell_type": "markdown",
      "metadata": {
        "id": "f6Bp2YEVyXML"
      },
      "source": [
        "# DSAI 1303 - Data Science Programming Languages \n",
        "## Assignment # 3\n",
        "\n",
        "Please note the following regarding homework submissions:\n",
        "\n",
        "* No email submissions will be accepted under any circumstances.\n",
        "* The hw is to be solved individually. Any similaraty in hws will lead to 0 for all students involved.\n",
        "* Once you write all codes in their corresponding cells, go to File -> download as -> notebook (.ipynb). Then submit the downloaded notebook.\n",
        "* Once you write all codes in their corresponding cells, go to File -> download as -> notebook (.ipynb). Then submit the downloaded notebook.\n",
        "* If you make a mistake, you can resubmit. The Google Classroom will consider the last submission.\n",
        "* Once you submit, download your submitted file and check that the cells contain code and they are not empty. If you submit empty cells, you will get 0.\n",
        "## Instructions:\n",
        "- Solve Questions in the respective cells below. __Make sure you fill in any place that says `YOUR CODE HERE`.__        \n",
        "\n",
        "### Note:\n",
        "- You should write comments to help other programmers understand your code.\n",
        "- Do not use magic numbers and define the constants value as a constant variable.\n",
        "- Name your variables based on Variable Naming Conventions rules.\n",
        "\n",
        "\n",
        "\n"
      ]
    },
    {
      "cell_type": "code",
      "execution_count": null,
      "metadata": {
        "id": "lJxKiz7MD62a",
        "outputId": "6643f16d-38bf-4a36-d309-9159e1e5de72"
      },
      "outputs": [
        {
          "name": "stderr",
          "output_type": "stream",
          "text": [
            "C:\\Users\\pc\\.ipython\\lib\\site-packages\\IPython\\core\\interactiveshell.py:3444: FutureWarning: In a future version of pandas all arguments of read_csv except for the argument 'filepath_or_buffer' will be keyword-only\n",
            "  exec(code_obj, self.user_global_ns, self.user_ns)\n"
          ]
        },
        {
          "data": {
            "text/html": [
              "<div>\n",
              "<style scoped>\n",
              "    .dataframe tbody tr th:only-of-type {\n",
              "        vertical-align: middle;\n",
              "    }\n",
              "\n",
              "    .dataframe tbody tr th {\n",
              "        vertical-align: top;\n",
              "    }\n",
              "\n",
              "    .dataframe thead th {\n",
              "        text-align: right;\n",
              "    }\n",
              "</style>\n",
              "<table border=\"1\" class=\"dataframe\">\n",
              "  <thead>\n",
              "    <tr style=\"text-align: right;\">\n",
              "      <th></th>\n",
              "      <th>pickup_year</th>\n",
              "      <th>pickup_month</th>\n",
              "      <th>pickup_day</th>\n",
              "      <th>pickup_dayofweek</th>\n",
              "      <th>pickup_time</th>\n",
              "      <th>pickup_location_code</th>\n",
              "      <th>dropoff_location_code</th>\n",
              "      <th>trip_distance</th>\n",
              "      <th>trip_length</th>\n",
              "      <th>fare_amount</th>\n",
              "      <th>fees_amount</th>\n",
              "      <th>tolls_amount</th>\n",
              "      <th>tip_amount</th>\n",
              "      <th>total_amount</th>\n",
              "      <th>payment_type</th>\n",
              "    </tr>\n",
              "  </thead>\n",
              "  <tbody>\n",
              "    <tr>\n",
              "      <th>0</th>\n",
              "      <td>2016</td>\n",
              "      <td>1</td>\n",
              "      <td>1</td>\n",
              "      <td>5</td>\n",
              "      <td>0</td>\n",
              "      <td>2</td>\n",
              "      <td>4</td>\n",
              "      <td>21.00</td>\n",
              "      <td>2037</td>\n",
              "      <td>52.0</td>\n",
              "      <td>0.8</td>\n",
              "      <td>5.54</td>\n",
              "      <td>11.65</td>\n",
              "      <td>69.99</td>\n",
              "      <td>1</td>\n",
              "    </tr>\n",
              "    <tr>\n",
              "      <th>1</th>\n",
              "      <td>2016</td>\n",
              "      <td>1</td>\n",
              "      <td>1</td>\n",
              "      <td>5</td>\n",
              "      <td>0</td>\n",
              "      <td>2</td>\n",
              "      <td>1</td>\n",
              "      <td>16.29</td>\n",
              "      <td>1520</td>\n",
              "      <td>45.0</td>\n",
              "      <td>1.3</td>\n",
              "      <td>0.00</td>\n",
              "      <td>8.00</td>\n",
              "      <td>54.30</td>\n",
              "      <td>1</td>\n",
              "    </tr>\n",
              "    <tr>\n",
              "      <th>2</th>\n",
              "      <td>2016</td>\n",
              "      <td>1</td>\n",
              "      <td>1</td>\n",
              "      <td>5</td>\n",
              "      <td>0</td>\n",
              "      <td>2</td>\n",
              "      <td>6</td>\n",
              "      <td>12.70</td>\n",
              "      <td>1462</td>\n",
              "      <td>36.5</td>\n",
              "      <td>1.3</td>\n",
              "      <td>0.00</td>\n",
              "      <td>0.00</td>\n",
              "      <td>37.80</td>\n",
              "      <td>2</td>\n",
              "    </tr>\n",
              "    <tr>\n",
              "      <th>3</th>\n",
              "      <td>2016</td>\n",
              "      <td>1</td>\n",
              "      <td>1</td>\n",
              "      <td>5</td>\n",
              "      <td>0</td>\n",
              "      <td>2</td>\n",
              "      <td>6</td>\n",
              "      <td>8.70</td>\n",
              "      <td>1210</td>\n",
              "      <td>26.0</td>\n",
              "      <td>1.3</td>\n",
              "      <td>0.00</td>\n",
              "      <td>5.46</td>\n",
              "      <td>32.76</td>\n",
              "      <td>1</td>\n",
              "    </tr>\n",
              "    <tr>\n",
              "      <th>4</th>\n",
              "      <td>2016</td>\n",
              "      <td>1</td>\n",
              "      <td>1</td>\n",
              "      <td>5</td>\n",
              "      <td>0</td>\n",
              "      <td>2</td>\n",
              "      <td>6</td>\n",
              "      <td>5.56</td>\n",
              "      <td>759</td>\n",
              "      <td>17.5</td>\n",
              "      <td>1.3</td>\n",
              "      <td>0.00</td>\n",
              "      <td>0.00</td>\n",
              "      <td>18.80</td>\n",
              "      <td>2</td>\n",
              "    </tr>\n",
              "    <tr>\n",
              "      <th>...</th>\n",
              "      <td>...</td>\n",
              "      <td>...</td>\n",
              "      <td>...</td>\n",
              "      <td>...</td>\n",
              "      <td>...</td>\n",
              "      <td>...</td>\n",
              "      <td>...</td>\n",
              "      <td>...</td>\n",
              "      <td>...</td>\n",
              "      <td>...</td>\n",
              "      <td>...</td>\n",
              "      <td>...</td>\n",
              "      <td>...</td>\n",
              "      <td>...</td>\n",
              "      <td>...</td>\n",
              "    </tr>\n",
              "    <tr>\n",
              "      <th>89555</th>\n",
              "      <td>2016</td>\n",
              "      <td>6</td>\n",
              "      <td>30</td>\n",
              "      <td>4</td>\n",
              "      <td>5</td>\n",
              "      <td>3</td>\n",
              "      <td>4</td>\n",
              "      <td>9.50</td>\n",
              "      <td>1989</td>\n",
              "      <td>31.0</td>\n",
              "      <td>1.3</td>\n",
              "      <td>5.54</td>\n",
              "      <td>3.00</td>\n",
              "      <td>40.84</td>\n",
              "      <td>1</td>\n",
              "    </tr>\n",
              "    <tr>\n",
              "      <th>89556</th>\n",
              "      <td>2016</td>\n",
              "      <td>6</td>\n",
              "      <td>30</td>\n",
              "      <td>4</td>\n",
              "      <td>5</td>\n",
              "      <td>2</td>\n",
              "      <td>4</td>\n",
              "      <td>19.80</td>\n",
              "      <td>2368</td>\n",
              "      <td>52.0</td>\n",
              "      <td>0.8</td>\n",
              "      <td>5.54</td>\n",
              "      <td>0.00</td>\n",
              "      <td>58.34</td>\n",
              "      <td>1</td>\n",
              "    </tr>\n",
              "    <tr>\n",
              "      <th>89557</th>\n",
              "      <td>2016</td>\n",
              "      <td>6</td>\n",
              "      <td>30</td>\n",
              "      <td>4</td>\n",
              "      <td>5</td>\n",
              "      <td>2</td>\n",
              "      <td>4</td>\n",
              "      <td>17.48</td>\n",
              "      <td>2822</td>\n",
              "      <td>52.0</td>\n",
              "      <td>0.8</td>\n",
              "      <td>5.54</td>\n",
              "      <td>5.00</td>\n",
              "      <td>63.34</td>\n",
              "      <td>1</td>\n",
              "    </tr>\n",
              "    <tr>\n",
              "      <th>89558</th>\n",
              "      <td>2016</td>\n",
              "      <td>6</td>\n",
              "      <td>30</td>\n",
              "      <td>4</td>\n",
              "      <td>5</td>\n",
              "      <td>2</td>\n",
              "      <td>6</td>\n",
              "      <td>12.76</td>\n",
              "      <td>1083</td>\n",
              "      <td>34.5</td>\n",
              "      <td>1.3</td>\n",
              "      <td>0.00</td>\n",
              "      <td>8.95</td>\n",
              "      <td>44.75</td>\n",
              "      <td>1</td>\n",
              "    </tr>\n",
              "    <tr>\n",
              "      <th>89559</th>\n",
              "      <td>2016</td>\n",
              "      <td>6</td>\n",
              "      <td>30</td>\n",
              "      <td>4</td>\n",
              "      <td>5</td>\n",
              "      <td>2</td>\n",
              "      <td>0</td>\n",
              "      <td>17.54</td>\n",
              "      <td>1711</td>\n",
              "      <td>48.0</td>\n",
              "      <td>1.3</td>\n",
              "      <td>5.54</td>\n",
              "      <td>0.00</td>\n",
              "      <td>54.84</td>\n",
              "      <td>2</td>\n",
              "    </tr>\n",
              "  </tbody>\n",
              "</table>\n",
              "<p>89560 rows × 15 columns</p>\n",
              "</div>"
            ],
            "text/plain": [
              "       pickup_year  pickup_month  pickup_day  pickup_dayofweek  pickup_time  \\\n",
              "0             2016             1           1                 5            0   \n",
              "1             2016             1           1                 5            0   \n",
              "2             2016             1           1                 5            0   \n",
              "3             2016             1           1                 5            0   \n",
              "4             2016             1           1                 5            0   \n",
              "...            ...           ...         ...               ...          ...   \n",
              "89555         2016             6          30                 4            5   \n",
              "89556         2016             6          30                 4            5   \n",
              "89557         2016             6          30                 4            5   \n",
              "89558         2016             6          30                 4            5   \n",
              "89559         2016             6          30                 4            5   \n",
              "\n",
              "       pickup_location_code  dropoff_location_code  trip_distance  \\\n",
              "0                         2                      4          21.00   \n",
              "1                         2                      1          16.29   \n",
              "2                         2                      6          12.70   \n",
              "3                         2                      6           8.70   \n",
              "4                         2                      6           5.56   \n",
              "...                     ...                    ...            ...   \n",
              "89555                     3                      4           9.50   \n",
              "89556                     2                      4          19.80   \n",
              "89557                     2                      4          17.48   \n",
              "89558                     2                      6          12.76   \n",
              "89559                     2                      0          17.54   \n",
              "\n",
              "       trip_length  fare_amount  fees_amount  tolls_amount  tip_amount  \\\n",
              "0             2037         52.0          0.8          5.54       11.65   \n",
              "1             1520         45.0          1.3          0.00        8.00   \n",
              "2             1462         36.5          1.3          0.00        0.00   \n",
              "3             1210         26.0          1.3          0.00        5.46   \n",
              "4              759         17.5          1.3          0.00        0.00   \n",
              "...            ...          ...          ...           ...         ...   \n",
              "89555         1989         31.0          1.3          5.54        3.00   \n",
              "89556         2368         52.0          0.8          5.54        0.00   \n",
              "89557         2822         52.0          0.8          5.54        5.00   \n",
              "89558         1083         34.5          1.3          0.00        8.95   \n",
              "89559         1711         48.0          1.3          5.54        0.00   \n",
              "\n",
              "       total_amount  payment_type  \n",
              "0             69.99             1  \n",
              "1             54.30             1  \n",
              "2             37.80             2  \n",
              "3             32.76             1  \n",
              "4             18.80             2  \n",
              "...             ...           ...  \n",
              "89555         40.84             1  \n",
              "89556         58.34             1  \n",
              "89557         63.34             1  \n",
              "89558         44.75             1  \n",
              "89559         54.84             2  \n",
              "\n",
              "[89560 rows x 15 columns]"
            ]
          },
          "execution_count": 2,
          "metadata": {},
          "output_type": "execute_result"
        }
      ],
      "source": [
        "import pandas as pd\n",
        "data = pd.read_csv(r\"C:\\Users\\pc\\Downloads\\data.csv\",\",\")\n",
        "data"
      ]
    },
    {
      "cell_type": "code",
      "execution_count": null,
      "metadata": {
        "colab": {
          "base_uri": "https://localhost:8080/"
        },
        "id": "iIVafCICw77a",
        "outputId": "9cc7848d-5fc3-4555-abc9-c65ea6a0a684"
      },
      "outputs": [
        {
          "data": {
            "text/plain": [
              "(89560, 15)"
            ]
          },
          "execution_count": 3,
          "metadata": {},
          "output_type": "execute_result"
        }
      ],
      "source": [
        "# Find number of rows and columns \n",
        "# It should be (89560, 15)\n",
        "import numpy as np\n",
        "#YOUR CODE HERE\n",
        "s= np.shape(data)\n",
        "s"
      ]
    },
    {
      "cell_type": "code",
      "execution_count": null,
      "metadata": {
        "colab": {
          "base_uri": "https://localhost:8080/"
        },
        "id": "dzGPjHQSxE8X",
        "outputId": "6beed66f-1b57-41b4-ed43-071914d74b46"
      },
      "outputs": [
        {
          "data": {
            "text/plain": [
              "834.84"
            ]
          },
          "execution_count": 4,
          "metadata": {},
          "output_type": "execute_result"
        }
      ],
      "source": [
        "# Calculate the maximum total amount\n",
        "# It should be 834.84\n",
        "\n",
        "#YOUR CODE HERE\n",
        "m = data.total_amount.max()\n",
        "m"
      ]
    },
    {
      "cell_type": "code",
      "execution_count": null,
      "metadata": {
        "colab": {
          "base_uri": "https://localhost:8080/"
        },
        "id": "5bTV9KeV3H_G",
        "outputId": "602036c4-1b15-4b92-c7f9-b7243e94c5aa"
      },
      "outputs": [
        {
          "data": {
            "text/plain": [
              "4"
            ]
          },
          "execution_count": 5,
          "metadata": {},
          "output_type": "execute_result"
        }
      ],
      "source": [
        "# Find number of payment types\n",
        "# It should be 4\n",
        "g = (data.payment_type)\n",
        "y= g.unique()\n",
        "y.size"
      ]
    },
    {
      "cell_type": "code",
      "execution_count": null,
      "metadata": {
        "colab": {
          "base_uri": "https://localhost:8080/"
        },
        "id": "yylUud6W5A_1",
        "outputId": "e7debe66-42de-4682-a2d2-cb321eabfc5d"
      },
      "outputs": [
        {
          "data": {
            "text/plain": [
              "32.243"
            ]
          },
          "execution_count": 8,
          "metadata": {},
          "output_type": "execute_result"
        }
      ],
      "source": [
        "# Calculate the mean speed of all rides\n",
        "# The speed equals to trip_distance divided by trip_length (Should be converted from seconds to hours by dividing by 3600)\n",
        "# The result should be 32.243\n",
        "\n",
        "#YOUR CODE HERE\n",
        "speed = (data.trip_distance / data.trip_length)* 3600\n",
        "round(speed.mean() , 3)"
      ]
    },
    {
      "cell_type": "code",
      "execution_count": null,
      "metadata": {
        "colab": {
          "base_uri": "https://localhost:8080/"
        },
        "id": "CjHIZ9LzZ2Fh",
        "outputId": "dbba7b66-ab64-422f-9e81-b0a9b89e0212"
      },
      "outputs": [
        {
          "data": {
            "text/plain": [
              "13333"
            ]
          },
          "execution_count": 9,
          "metadata": {},
          "output_type": "execute_result"
        }
      ],
      "source": [
        "# Find number of rides taken in February (month number 2)\n",
        "# It should be 13333\n",
        "\n",
        "#YOUR CODE HERE\n",
        "np.sum(data.pickup_month== 2)"
      ]
    },
    {
      "cell_type": "code",
      "execution_count": null,
      "metadata": {
        "colab": {
          "base_uri": "https://localhost:8080/"
        },
        "id": "d_gxlP6KaCYB",
        "outputId": "4b020e46-808d-4f0b-fbbd-ccb74ff7dd9b"
      },
      "outputs": [
        {
          "data": {
            "text/plain": [
              "16"
            ]
          },
          "execution_count": 10,
          "metadata": {},
          "output_type": "execute_result"
        }
      ],
      "source": [
        "# Find number of rides with a tip greater than 50$\n",
        "# It should be 16\n",
        "\n",
        "#YOUR CODE HERE\n",
        "tip = data.tip_amount >50\n",
        "(tip).sum()"
      ]
    },
    {
      "cell_type": "code",
      "execution_count": null,
      "metadata": {
        "colab": {
          "base_uri": "https://localhost:8080/"
        },
        "id": "I8CQNtahaT6F",
        "outputId": "b26a1def-27ef-4417-a81c-43f76bbd7fe9"
      },
      "outputs": [
        {
          "data": {
            "text/plain": [
              "11832"
            ]
          },
          "execution_count": 11,
          "metadata": {},
          "output_type": "execute_result"
        }
      ],
      "source": [
        "# Find number of rides where drop was location code of 2\n",
        "# It should be 11832\n",
        "\n",
        "#YOUR CODE HERE\n",
        "num = data.dropoff_location_code ==2\n",
        "(num).sum()"
      ]
    },
    {
      "cell_type": "code",
      "execution_count": null,
      "metadata": {
        "colab": {
          "base_uri": "https://localhost:8080/"
        },
        "id": "KiZmghAZhVPc",
        "outputId": "b405fdc4-b005-4a10-fd36-628dd98e0236"
      },
      "outputs": [
        {
          "data": {
            "text/plain": [
              "array([0., 1., 2., 3., 4., 6.])"
            ]
          },
          "execution_count": 12,
          "metadata": {},
          "output_type": "execute_result"
        }
      ],
      "source": [
        "# List all pickup location codes (without redandancy)\n",
        "# It should be 0., 1., 2., 3., 4., 6.\n",
        "\n",
        "#YOUR CODE HERE\n",
        "location = data.pickup_location_code\n",
        "x = location.unique()\n",
        "v=np.sort(x)\n",
        "v.astype(float)"
      ]
    },
    {
      "cell_type": "code",
      "execution_count": null,
      "metadata": {
        "colab": {
          "base_uri": "https://localhost:8080/"
        },
        "id": "8cjegAk8kUtj",
        "outputId": "a2f07493-3a33-4531-d14b-db554e2e0920"
      },
      "outputs": [
        {
          "data": {
            "text/plain": [
              "0.5"
            ]
          },
          "execution_count": 13,
          "metadata": {},
          "output_type": "execute_result"
        }
      ],
      "source": [
        "# Find the 7th smallest amount of fees\n",
        "# It should be 0.5\n",
        "\n",
        "#YOUR CODE HERE\n",
        "fees = data.fees_amount\n",
        "x = fees.unique()\n",
        "v= np.sort(x)\n",
        "v[6]"
      ]
    },
    {
      "cell_type": "code",
      "execution_count": null,
      "metadata": {
        "colab": {
          "base_uri": "https://localhost:8080/"
        },
        "id": "IL1FDd6gmCm5",
        "outputId": "e62ab67f-ff0d-4789-c3fd-db74b2a3a839"
      },
      "outputs": [
        {
          "name": "stdout",
          "output_type": "stream",
          "text": [
            "The mean of inteval [0, 100) :  48.851\n",
            "The mean of inteval [150, 350) :  175.006\n"
          ]
        }
      ],
      "source": [
        "# Calculate the mean for two intervals of total amount: [0, 100) and [150, 350)\n",
        "# The results should be 48.851 and 175.006\n",
        "\n",
        "#YOUR CODE HERE\n",
        "d = (data.total_amount >= 0) & (data.total_amount < 100)\n",
        "g = (data.total_amount >= 150) & (data.total_amount < 350)\n",
        "print('The mean of inteval [0, 100) : ' ,round(data.total_amount[d].mean() , 3) )\n",
        "print('The mean of inteval [150, 350) : ' ,round(data.total_amount[g].mean() , 3))"
      ]
    },
    {
      "cell_type": "code",
      "execution_count": null,
      "metadata": {
        "colab": {
          "base_uri": "https://localhost:8080/"
        },
        "id": "V6N1Zs3JkSsb",
        "outputId": "9e76199e-2e7e-4289-d45f-06aa406a423f"
      },
      "outputs": [
        {
          "name": "stdout",
          "output_type": "stream",
          "text": [
            "Number of trips:  64916\n",
            "Sum of total amounts:  3355279.84\n"
          ]
        },
        {
          "name": "stderr",
          "output_type": "stream",
          "text": [
            "C:\\Users\\pc\\AppData\\Local\\Temp/ipykernel_2020/3547270235.py:13: NumbaWarning: \u001b[1m\n",
            "Compilation is falling back to object mode WITH looplifting enabled because Function \"sum_fun\" failed type inference due to: \u001b[1m\u001b[1mnon-precise type pyobject\u001b[0m\n",
            "\u001b[0m\u001b[1mDuring: typing of argument at C:\\Users\\pc\\AppData\\Local\\Temp/ipykernel_2020/3547270235.py (15)\u001b[0m\n",
            "\u001b[1m\n",
            "File \"AppData\\Local\\Temp\\ipykernel_2020\\3547270235.py\", line 15:\u001b[0m\n",
            "\u001b[1m<source missing, REPL/exec in use?>\u001b[0m\n",
            "\u001b[0m\n",
            "  @nb.jit\n",
            "C:\\Users\\pc\\.ipython\\lib\\site-packages\\numba\\core\\object_mode_passes.py:151: NumbaWarning: \u001b[1mFunction \"sum_fun\" was compiled in object mode without forceobj=True.\n",
            "\u001b[1m\n",
            "File \"AppData\\Local\\Temp\\ipykernel_2020\\3547270235.py\", line 13:\u001b[0m\n",
            "\u001b[1m<source missing, REPL/exec in use?>\u001b[0m\n",
            "\u001b[0m\n",
            "  warnings.warn(errors.NumbaWarning(warn_msg,\n",
            "C:\\Users\\pc\\.ipython\\lib\\site-packages\\numba\\core\\object_mode_passes.py:161: NumbaDeprecationWarning: \u001b[1m\n",
            "Fall-back from the nopython compilation path to the object mode compilation path has been detected, this is deprecated behaviour.\n",
            "\n",
            "For more information visit https://numba.pydata.org/numba-doc/latest/reference/deprecation.html#deprecation-of-object-mode-fall-back-behaviour-when-using-jit\n",
            "\u001b[1m\n",
            "File \"AppData\\Local\\Temp\\ipykernel_2020\\3547270235.py\", line 13:\u001b[0m\n",
            "\u001b[1m<source missing, REPL/exec in use?>\u001b[0m\n",
            "\u001b[0m\n",
            "  warnings.warn(errors.NumbaDeprecationWarning(msg,\n"
          ]
        }
      ],
      "source": [
        "# Write fast numpy function with Numba for calauating number of trips that used paymnet types 1 and 3 and find the sum of total amounts\n",
        "\n",
        "#YOUR CODE HERE\n",
        "\n",
        "\n",
        "# Call the function for providing results from the dataset\n",
        "# The results should be 64916 and 3355279.84 \n",
        "\n",
        "#YOUR CODE HERE\n",
        "#results = data.payment_type==1&3\n",
        "import numba as nb\n",
        "import numpy as np\n",
        "@nb.jit\n",
        "def sum_fun(data_set) :\n",
        "    x = np.sum(data_set.payment_type==1)\n",
        "    y= np.sum(data_set.payment_type==3)\n",
        "    d = data_set.total_amount[data_set.payment_type==1].sum()\n",
        "    s = data_set.total_amount[data_set.payment_type==3].sum()\n",
        "    print('Number of trips: ' , x+y) ,\n",
        "    print('Sum of total amounts: ' , round(d+s , 2))\n",
        "j= sum_fun(data)\n",
        "j"
      ]
    },
    {
      "cell_type": "code",
      "execution_count": null,
      "metadata": {
        "id": "OhwfcjOGD62h"
      },
      "outputs": [],
      "source": []
    }
  ],
  "metadata": {
    "colab": {
      "provenance": []
    },
    "kernelspec": {
      "display_name": "Python 3 (ipykernel)",
      "language": "python",
      "name": "python3"
    },
    "language_info": {
      "codemirror_mode": {
        "name": "ipython",
        "version": 3
      },
      "file_extension": ".py",
      "mimetype": "text/x-python",
      "name": "python",
      "nbconvert_exporter": "python",
      "pygments_lexer": "ipython3",
      "version": "3.9.7"
    }
  },
  "nbformat": 4,
  "nbformat_minor": 0
}