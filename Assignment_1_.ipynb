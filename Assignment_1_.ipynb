{
  "cells": [
    {
      "cell_type": "code",
      "execution_count": null,
      "id": "0af0ca57",
      "metadata": {
        "id": "0af0ca57"
      },
      "outputs": [],
      "source": [
        "import pandas as pd\n",
        "data = pd.read_excel(r\"C:\\Users\\pc\\Desktop\\HM_1.xlsx\")\n",
        "import re\n",
        "def Twitter_filter(x):\n",
        "    y= re.sub(r'^<?[A-z0-9_?]+',\"@User\" , x)\n",
        "    s = re.sub(r'@\\w\\w+',\"@USER\",y)\n",
        "    n= re.sub(r'(https?)://(www)?\\.?(\\w+)\\.(\\w+):?(\\d+)?/?(.+)',\"URL\",s)\n",
        "    return n\n",
        "FD=data.TEXT.apply(Twitter_filter)\n",
        "data_filter = data.filter([\"Topic\",\"Category\"])\n",
        "data = pd.concat([FD, data_filter], axis = 1)\n",
        "data.to_excel('output.xlsx')"
      ]
    }
  ],
  "metadata": {
    "kernelspec": {
      "display_name": "Python 3 (ipykernel)",
      "language": "python",
      "name": "python3"
    },
    "language_info": {
      "codemirror_mode": {
        "name": "ipython",
        "version": 3
      },
      "file_extension": ".py",
      "mimetype": "text/x-python",
      "name": "python",
      "nbconvert_exporter": "python",
      "pygments_lexer": "ipython3",
      "version": "3.9.7"
    },
    "colab": {
      "provenance": []
    }
  },
  "nbformat": 4,
  "nbformat_minor": 5
}